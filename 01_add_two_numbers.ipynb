{
  "nbformat": 4,
  "nbformat_minor": 0,
  "metadata": {
    "colab": {
      "provenance": [],
      "authorship_tag": "ABX9TyMngmPgIwJxbLnjUzh4eOHI",
      "include_colab_link": true
    },
    "kernelspec": {
      "name": "python3",
      "display_name": "Python 3"
    },
    "language_info": {
      "name": "python"
    }
  },
  "cells": [
    {
      "cell_type": "markdown",
      "metadata": {
        "id": "view-in-github",
        "colab_type": "text"
      },
      "source": [
        "<a href=\"https://colab.research.google.com/github/AyeshaMaryam-1/project-4-assignments/blob/main/01_add_two_numbers.ipynb\" target=\"_parent\"><img src=\"https://colab.research.google.com/assets/colab-badge.svg\" alt=\"Open In Colab\"/></a>"
      ]
    },
    {
      "cell_type": "code",
      "execution_count": 1,
      "metadata": {
        "colab": {
          "base_uri": "https://localhost:8080/"
        },
        "id": "FnMuAa34AlFI",
        "outputId": "9f44ab6a-c346-4257-80d9-0db77f9dfb03"
      },
      "outputs": [
        {
          "output_type": "stream",
          "name": "stdout",
          "text": [
            "This program adds two numbers.\n",
            "Enter first number: 10\n",
            "Enter second number: 20\n",
            "The total is 30.\n"
          ]
        }
      ],
      "source": [
        "def main():\n",
        "    print(\"This program adds two numbers.\")\n",
        "    num1 : str = input(\"Enter first number: \") # take first input as a string\n",
        "    num1 : int = int(num1) # convert string input into an integer\n",
        "    num2  : str = input(\"Enter second number: \") # take second input as a string\n",
        "    num2 : int = int(num2) # convert string input into an integer\n",
        "    total : int = num1 + num2 # add two numbers\n",
        "    print(\"The total is \" + str(total) + \".\") # print the result\n",
        "\n",
        "if __name__ == '__main__':\n",
        "    main()"
      ]
    }
  ]
}