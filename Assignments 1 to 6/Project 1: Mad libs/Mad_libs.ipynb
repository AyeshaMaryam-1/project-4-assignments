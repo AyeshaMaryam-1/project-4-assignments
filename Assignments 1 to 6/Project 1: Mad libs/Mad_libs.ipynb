{
  "nbformat": 4,
  "nbformat_minor": 0,
  "metadata": {
    "colab": {
      "provenance": [],
      "authorship_tag": "ABX9TyOvCBOda10QcseFmpZcFMKw",
      "include_colab_link": true
    },
    "kernelspec": {
      "name": "python3",
      "display_name": "Python 3"
    },
    "language_info": {
      "name": "python"
    }
  },
  "cells": [
    {
      "cell_type": "markdown",
      "metadata": {
        "id": "view-in-github",
        "colab_type": "text"
      },
      "source": [
        "<a href=\"https://colab.research.google.com/github/AyeshaMaryam-1/project-4-assignments/blob/main/Assignments%201%20to%206/Project%201%3A%20Mad%20libs/Mad_libs.ipynb\" target=\"_parent\"><img src=\"https://colab.research.google.com/assets/colab-badge.svg\" alt=\"Open In Colab\"/></a>"
      ]
    },
    {
      "cell_type": "code",
      "execution_count": 4,
      "metadata": {
        "colab": {
          "base_uri": "https://localhost:8080/"
        },
        "id": "Z9NVTmsL-aKU",
        "outputId": "ef98d3a5-e7f4-4eb4-8b1b-049587beeac9"
      },
      "outputs": [
        {
          "output_type": "stream",
          "name": "stdout",
          "text": [
            "Let's play Mad Libs!\n",
            "Enter a name: Ayesha\n",
            "Enter a verb: run\n",
            "Enter an adjective: sparkly\n",
            "\n",
            "Here's your story:\n",
            "\n",
            "One sunny morning, Ayesha decided to run through the enchanted forest. Suddenly, a sparkly squirrel appeared and challenged Ayesha to a dance battle! It was the beginning of a truly unforgettable day.\n"
          ]
        }
      ],
      "source": [
        "def mad_libs():\n",
        "    print(\"Let's play Mad Libs!\")\n",
        "\n",
        "    name = input(\"Enter a name: \")\n",
        "    verb = input(\"Enter a verb: \")\n",
        "    adjective = input(\"Enter an adjective: \")\n",
        "\n",
        "    story = (\n",
        "        f\"One sunny morning, {name} decided to {verb} through the enchanted forest. Suddenly, a {adjective} squirrel appeared and challenged {name} to a dance battle! It was the beginning of a truly unforgettable day.\"\n",
        "    )\n",
        "\n",
        "    print(\"\\nHere's your story:\\n\")\n",
        "    print(story)\n",
        "\n",
        "if __name__ == \"__main__\":\n",
        "    mad_libs()\n"
      ]
    }
  ]
}