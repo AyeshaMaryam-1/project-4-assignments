{
  "nbformat": 4,
  "nbformat_minor": 0,
  "metadata": {
    "colab": {
      "provenance": [],
      "authorship_tag": "ABX9TyPdVMafTurNBi8WiDnzXdkL",
      "include_colab_link": true
    },
    "kernelspec": {
      "name": "python3",
      "display_name": "Python 3"
    },
    "language_info": {
      "name": "python"
    }
  },
  "cells": [
    {
      "cell_type": "markdown",
      "metadata": {
        "id": "view-in-github",
        "colab_type": "text"
      },
      "source": [
        "<a href=\"https://colab.research.google.com/github/AyeshaMaryam-1/project-4-assignments/blob/main/Assignments%201%20to%206/Project%205%3A%20Hangman/Hangman.ipynb\" target=\"_parent\"><img src=\"https://colab.research.google.com/assets/colab-badge.svg\" alt=\"Open In Colab\"/></a>"
      ]
    },
    {
      "cell_type": "code",
      "execution_count": 3,
      "metadata": {
        "colab": {
          "base_uri": "https://localhost:8080/"
        },
        "id": "nIqBzD3Zkw8T",
        "outputId": "1f440046-6976-4f39-dd0f-6b5e87d66b2b"
      },
      "outputs": [
        {
          "output_type": "stream",
          "name": "stdout",
          "text": [
            "Welcome to Hangman!\n",
            "\n",
            "Word:  _ _ _ _ _ _ _ _ _\n",
            "Guesses left: 6\n",
            "Enter a letter: e\n",
            "Good guess!\n",
            "\n",
            "Word:  _ e _ e _ _ _ e _\n",
            "Guesses left: 6\n",
            "Enter a letter: o\n",
            "Good guess!\n",
            "\n",
            "Word:  _ e _ e _ o _ e _\n",
            "Guesses left: 6\n",
            "Enter a letter: l\n",
            "Good guess!\n",
            "\n",
            "Word:  _ e _ e l o _ e _\n",
            "Guesses left: 6\n",
            "Enter a letter: r\n",
            "Good guess!\n",
            "\n",
            "Word:  _ e _ e l o _ e r\n",
            "Guesses left: 6\n",
            "Enter a letter: d\n",
            "Good guess!\n",
            "\n",
            "Word:  d e _ e l o _ e r\n",
            "Guesses left: 6\n",
            "Enter a letter: v\n",
            "Good guess!\n",
            "\n",
            "Word:  d e v e l o _ e r\n",
            "Guesses left: 6\n",
            "Enter a letter: p\n",
            "Good guess!\n",
            "\n",
            "🎉 You win! The word was 'developer'.\n"
          ]
        }
      ],
      "source": [
        "import random\n",
        "\n",
        "def hangman():\n",
        "    words = [\"python\", \"hangman\", \"challenge\", \"developer\", \"project\"]\n",
        "    word = random.choice(words)\n",
        "    word_letters = set(word)\n",
        "    guessed_letters = set()\n",
        "    tries = 6\n",
        "\n",
        "    print(\"Welcome to Hangman!\")\n",
        "\n",
        "    while tries > 0 and word_letters:\n",
        "        print(\"\\nWord: \", ' '.join([letter if letter in guessed_letters else '_' for letter in word]))\n",
        "        print(\"Guesses left:\", tries)\n",
        "        guess = input(\"Enter a letter: \").lower()\n",
        "\n",
        "        if not guess.isalpha() or len(guess) != 1:\n",
        "            print(\"Please enter a single letter.\")\n",
        "            continue\n",
        "\n",
        "        if guess in guessed_letters:\n",
        "            print(\"You already guessed that letter.\")\n",
        "        elif guess in word_letters:\n",
        "            guessed_letters.add(guess)\n",
        "            word_letters.remove(guess)\n",
        "            print(\"Good guess!\")\n",
        "        else:\n",
        "            guessed_letters.add(guess)\n",
        "            tries -= 1\n",
        "            print(\"Wrong guess.\")\n",
        "\n",
        "    if not word_letters:\n",
        "        print(f\"\\n🎉 You win! The word was '{word}'.\")\n",
        "    else:\n",
        "        print(f\"\\n😢 You lose. The word was '{word}'.\")\n",
        "\n",
        "hangman()\n"
      ]
    }
  ]
}