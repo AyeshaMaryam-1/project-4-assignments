{
  "nbformat": 4,
  "nbformat_minor": 0,
  "metadata": {
    "colab": {
      "provenance": [],
      "authorship_tag": "ABX9TyO7UNXFHHw2UsqeLQrXl4MX",
      "include_colab_link": true
    },
    "kernelspec": {
      "name": "python3",
      "display_name": "Python 3"
    },
    "language_info": {
      "name": "python"
    }
  },
  "cells": [
    {
      "cell_type": "markdown",
      "metadata": {
        "id": "view-in-github",
        "colab_type": "text"
      },
      "source": [
        "<a href=\"https://colab.research.google.com/github/AyeshaMaryam-1/project-4-assignments/blob/main/Assignments%201%20to%206/Guess_the_Number_Game/Guess_the_Number_Game.ipynb\" target=\"_parent\"><img src=\"https://colab.research.google.com/assets/colab-badge.svg\" alt=\"Open In Colab\"/></a>"
      ]
    },
    {
      "cell_type": "code",
      "execution_count": 2,
      "metadata": {
        "colab": {
          "base_uri": "https://localhost:8080/"
        },
        "id": "VMoVYtz8amzS",
        "outputId": "8c1d3edb-c903-4375-eb15-8b7f0b6c4c7c"
      },
      "outputs": [
        {
          "output_type": "stream",
          "name": "stdout",
          "text": [
            "Welcome to the Guess the Number Game (Computer Guesses)!\n",
            "Think of a number between 1 and 100, and I'll try to guess it.\n",
            "Press Enter when you're ready...\n",
            "My guess is: 50\n",
            "Is it too high (H), too low (L), or correct (C)? L\n",
            "My guess is: 75\n",
            "Is it too high (H), too low (L), or correct (C)? H\n",
            "My guess is: 62\n",
            "Is it too high (H), too low (L), or correct (C)? L\n",
            "My guess is: 68\n",
            "Is it too high (H), too low (L), or correct (C)? H\n",
            "My guess is: 65\n",
            "Is it too high (H), too low (L), or correct (C)? L\n",
            "My guess is: 66\n",
            "Is it too high (H), too low (L), or correct (C)? C\n",
            "Yay! I guessed your number in 6 attempts.\n"
          ]
        }
      ],
      "source": [
        "def computer_guesses_number():\n",
        "    print(\"Welcome to the Guess the Number Game (Computer Guesses)!\")\n",
        "    print(\"Think of a number between 1 and 100, and I'll try to guess it.\")\n",
        "    input(\"Press Enter when you're ready...\")\n",
        "\n",
        "    low = 1\n",
        "    high = 100\n",
        "    attempts = 0\n",
        "\n",
        "    while low <= high:\n",
        "        guess = (low + high) // 2\n",
        "        attempts += 1\n",
        "        print(f\"My guess is: {guess}\")\n",
        "\n",
        "        feedback = input(\"Is it too high (H), too low (L), or correct (C)? \").lower()\n",
        "\n",
        "        if feedback == \"h\":\n",
        "            high = guess - 1\n",
        "        elif feedback == \"l\":\n",
        "            low = guess + 1\n",
        "        elif feedback == \"c\":\n",
        "            print(f\"Yay! I guessed your number in {attempts} attempts.\")\n",
        "            break\n",
        "        else:\n",
        "            print(\"Please enter 'H', 'L', or 'C'.\")\n",
        "\n",
        "if __name__ == \"__main__\":\n",
        "    computer_guesses_number()\n"
      ]
    }
  ]
}
