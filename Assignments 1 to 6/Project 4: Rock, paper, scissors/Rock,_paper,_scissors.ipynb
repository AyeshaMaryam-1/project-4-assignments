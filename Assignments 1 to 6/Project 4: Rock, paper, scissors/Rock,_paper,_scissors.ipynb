{
  "nbformat": 4,
  "nbformat_minor": 0,
  "metadata": {
    "colab": {
      "provenance": [],
      "authorship_tag": "ABX9TyNoEhNEalwHkGK8gOfLGiyk",
      "include_colab_link": true
    },
    "kernelspec": {
      "name": "python3",
      "display_name": "Python 3"
    },
    "language_info": {
      "name": "python"
    }
  },
  "cells": [
    {
      "cell_type": "markdown",
      "metadata": {
        "id": "view-in-github",
        "colab_type": "text"
      },
      "source": [
        "<a href=\"https://colab.research.google.com/github/AyeshaMaryam-1/project-4-assignments/blob/main/Assignments%201%20to%206/Project%204%3A%20Rock%2C%20paper%2C%20scissors/Rock%2C_paper%2C_scissors.ipynb\" target=\"_parent\"><img src=\"https://colab.research.google.com/assets/colab-badge.svg\" alt=\"Open In Colab\"/></a>"
      ]
    },
    {
      "cell_type": "code",
      "execution_count": 4,
      "metadata": {
        "colab": {
          "base_uri": "https://localhost:8080/"
        },
        "id": "vJat3wMZjgIt",
        "outputId": "087b12f4-ada5-47ce-da20-e5b916af11f6"
      },
      "outputs": [
        {
          "output_type": "stream",
          "name": "stdout",
          "text": [
            "Rock, paper, or scissors? paper\n",
            "Computer chose: rock\n",
            "You win! 🎉\n"
          ]
        }
      ],
      "source": [
        "import random\n",
        "\n",
        "def play():\n",
        "    options = ['rock', 'paper', 'scissors']\n",
        "    user = input(\"Rock, paper, or scissors? \").lower()\n",
        "\n",
        "    if user not in options:\n",
        "        print(\"Invalid input! Choose rock, paper, or scissors.\")\n",
        "        return\n",
        "\n",
        "    computer = random.choice(options)\n",
        "    print(f\"Computer chose: {computer}\")\n",
        "\n",
        "    if user == computer:\n",
        "        print(\"It's a tie!\")\n",
        "    elif (user == 'rock' and computer == 'scissors') or \\\n",
        "         (user == 'scissors' and computer == 'paper') or \\\n",
        "         (user == 'paper' and computer == 'rock'):\n",
        "        print(\"You win! 🎉\")\n",
        "    else:\n",
        "        print(\"You lose. 😢\")\n",
        "\n",
        "play()\n"
      ]
    }
  ]
}