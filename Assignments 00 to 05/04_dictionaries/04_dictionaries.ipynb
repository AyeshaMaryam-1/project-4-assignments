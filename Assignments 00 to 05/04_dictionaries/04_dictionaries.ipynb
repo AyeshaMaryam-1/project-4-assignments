{
  "nbformat": 4,
  "nbformat_minor": 0,
  "metadata": {
    "colab": {
      "provenance": [],
      "authorship_tag": "ABX9TyMZZPZ8xUsNzuj7Gw0JspJg",
      "include_colab_link": true
    },
    "kernelspec": {
      "name": "python3",
      "display_name": "Python 3"
    },
    "language_info": {
      "name": "python"
    }
  },
  "cells": [
    {
      "cell_type": "markdown",
      "metadata": {
        "id": "view-in-github",
        "colab_type": "text"
      },
      "source": [
        "<a href=\"https://colab.research.google.com/github/AyeshaMaryam-1/project-4-assignments/blob/main/Assignments%2000%20to%2005/04_dictionaries/04_dictionaries.ipynb\" target=\"_parent\"><img src=\"https://colab.research.google.com/assets/colab-badge.svg\" alt=\"Open In Colab\"/></a>"
      ]
    },
    {
      "cell_type": "markdown",
      "source": [
        "#00_count_nums"
      ],
      "metadata": {
        "id": "U5m5EEtLiIct"
      }
    },
    {
      "cell_type": "code",
      "execution_count": 2,
      "metadata": {
        "colab": {
          "base_uri": "https://localhost:8080/"
        },
        "id": "oJj3uhIHiE5R",
        "outputId": "a5b290ec-79e5-454b-ea55-f30aa945d82b"
      },
      "outputs": [
        {
          "output_type": "stream",
          "name": "stdout",
          "text": [
            "Enter a number: 5\n",
            "Enter a number: 7\n",
            "Enter a number: 9\n",
            "Enter a number: 10\n",
            "Enter a number: 15\n",
            "Enter a number: 12\n",
            "Enter a number: 10\n",
            "Enter a number: 9\n",
            "Enter a number: 12\n",
            "Enter a number: \n",
            "5 appears 1 times.\n",
            "7 appears 1 times.\n",
            "9 appears 2 times.\n",
            "10 appears 2 times.\n",
            "15 appears 1 times.\n",
            "12 appears 2 times.\n"
          ]
        }
      ],
      "source": [
        "def get_user_numbers():\n",
        "    \"\"\"\n",
        "    Create an empty list.\n",
        "    Ask the user to input numbers and store them in a list.\n",
        "    Once they enter a blank line, break out of the loop and return the list.\n",
        "    \"\"\"\n",
        "    user_numbers = []\n",
        "    while True:\n",
        "        user_input = input(\"Enter a number: \")\n",
        "\n",
        "        if user_input == \"\":\n",
        "            break\n",
        "\n",
        "        num = int(user_input)\n",
        "        user_numbers.append(num)\n",
        "\n",
        "    return user_numbers\n",
        "\n",
        "def count_nums(num_lst):\n",
        "    \"\"\"\n",
        "    Create an empty dictionary.\n",
        "    Loop over the list of numbers.\n",
        "    If the number is not in the dictionary, add it as a key with a value of 1.\n",
        "    If the number is in the dictionary, increment its value by 1.\n",
        "    \"\"\"\n",
        "    num_dict = {}\n",
        "    for num in num_lst:\n",
        "        if num not in num_dict:\n",
        "            num_dict[num] = 1\n",
        "        else:\n",
        "            num_dict[num] += 1\n",
        "\n",
        "    return num_dict\n",
        "\n",
        "\n",
        "def print_counts(num_dict):\n",
        "    \"\"\"\n",
        "    Loop over the dictionary and print out each key and its value.\n",
        "    \"\"\"\n",
        "    for num in num_dict:\n",
        "        print(str(num) + \" appears \" + str(num_dict[num]) + \" times.\")\n",
        "\n",
        "\n",
        "def main():\n",
        "    \"\"\"\n",
        "    Ask the user to input numbers and store them in a list. Once they enter a blank line,\n",
        "    print out the number of times each number appeared in the list.\n",
        "    \"\"\"\n",
        "    user_numbers = get_user_numbers()\n",
        "    num_dict = count_nums(user_numbers)\n",
        "    print_counts(num_dict)\n",
        "\n",
        "\n",
        "if __name__ == '__main__':\n",
        "    main()"
      ]
    },
    {
      "cell_type": "markdown",
      "source": [
        "#01_phonebook"
      ],
      "metadata": {
        "id": "LZe6RiFci2kK"
      }
    },
    {
      "cell_type": "code",
      "source": [
        "def read_phone_numbers():\n",
        "    \"\"\"\n",
        "    Ask the user for names/numbers to story in a phonebook (dictionary).\n",
        "    Returns the phonebook.\n",
        "    \"\"\"\n",
        "    phonebook = {}\n",
        "\n",
        "    while True:\n",
        "        name = input(\"Name: \")\n",
        "        if name == \"\":\n",
        "            break\n",
        "        number = input(\"Number: \")\n",
        "        phonebook[name] = number\n",
        "\n",
        "    return phonebook\n",
        "\n",
        "\n",
        "def print_phonebook(phonebook):\n",
        "    \"\"\"\n",
        "    Prints out all the names/numbers in the phonebook.\n",
        "    \"\"\"\n",
        "    for name in phonebook:\n",
        "        print(str(name) + \" -> \" + str(phonebook[name]))\n",
        "\n",
        "\n",
        "def lookup_numbers(phonebook):\n",
        "    \"\"\"\n",
        "    Allow the user to lookup phone numbers in the phonebook\n",
        "    by looking up the number associated with a name.\n",
        "    \"\"\"\n",
        "    while True:\n",
        "        name = input(\"Enter name to lookup: \")\n",
        "        if name == \"\":\n",
        "            break\n",
        "        if name not in phonebook:\n",
        "            print(name + \" is not in the phonebook\")\n",
        "        else:\n",
        "            print(phonebook[name])\n",
        "\n",
        "\n",
        "def main():\n",
        "    phonebook = read_phone_numbers()\n",
        "    print_phonebook(phonebook)\n",
        "    lookup_numbers(phonebook)\n",
        "\n",
        "\n",
        "if __name__ == '__main__':\n",
        "    main()"
      ],
      "metadata": {
        "colab": {
          "base_uri": "https://localhost:8080/"
        },
        "id": "MFslRWIFi9mw",
        "outputId": "e0cc43cc-37bc-4ccd-8e88-69298212e208"
      },
      "execution_count": 5,
      "outputs": [
        {
          "name": "stdout",
          "output_type": "stream",
          "text": [
            "Name: Ayesha\n",
            "Number: 0123456789\n",
            "Name: Maryam\n",
            "Number: 9876543210\n",
            "Name: \n",
            "Ayesha -> 0123456789\n",
            "Maryam -> 9876543210\n",
            "Enter name to lookup: Ayesha\n",
            "0123456789\n",
            "Enter name to lookup: Sheikh\n",
            "Sheikh is not in the phonebook\n",
            "Enter name to lookup: \n"
          ]
        }
      ]
    },
    {
      "cell_type": "markdown",
      "source": [
        "#02_pop_up_shop"
      ],
      "metadata": {
        "id": "kmT4ztZ8jzSe"
      }
    },
    {
      "cell_type": "code",
      "source": [
        "def main():\n",
        "    fruits = {'apple': 1.5, 'durian': 50, 'jackfruit': 80, 'kiwi': 1, 'rambutan': 1.5, 'mango': 5}\n",
        "\n",
        "    total_cost = 0\n",
        "    for fruit_name in fruits:\n",
        "        price = fruits[fruit_name]\n",
        "        amount_bought = int(input(\"How many (\" + fruit_name + \") do you want to buy?: \"))\n",
        "        total_cost += (price * amount_bought)\n",
        "\n",
        "    print(\"Your total is $\" + str(total_cost))\n",
        "\n",
        "\n",
        "if __name__ == '__main__':\n",
        "    main()"
      ],
      "metadata": {
        "colab": {
          "base_uri": "https://localhost:8080/"
        },
        "id": "mRqrpEsYj23m",
        "outputId": "54209113-81cc-4192-c9c0-d7e5fe7d73aa"
      },
      "execution_count": 6,
      "outputs": [
        {
          "output_type": "stream",
          "name": "stdout",
          "text": [
            "How many (apple) do you want to buy?: 4\n",
            "How many (durian) do you want to buy?: 5\n",
            "How many (jackfruit) do you want to buy?: 5\n",
            "How many (kiwi) do you want to buy?: 7\n",
            "How many (rambutan) do you want to buy?: 3\n",
            "How many (mango) do you want to buy?: 9\n",
            "Your total is $712.5\n"
          ]
        }
      ]
    },
    {
      "cell_type": "markdown",
      "source": [
        "#03_powerful_passwords"
      ],
      "metadata": {
        "id": "G2VVYdPYkVwf"
      }
    },
    {
      "cell_type": "code",
      "source": [
        "from hashlib import sha256\n",
        "\n",
        "def hash_password(password):\n",
        "    \"\"\"\n",
        "    Takes in a password and returns the SHA256 hashed value for that specific password.\n",
        "\n",
        "    Inputs:\n",
        "        password: the password we want\n",
        "\n",
        "    Outputs:\n",
        "        the hashed form of the input password\n",
        "    \"\"\"\n",
        "    return sha256(password.encode()).hexdigest()\n",
        "\n",
        "def login(email, stored_logins, password_to_check):\n",
        "    \"\"\"\n",
        "    Returns True if the hash of the password we are checking matches the one in stored_logins\n",
        "    for a specific email. Otherwise, returns False.\n",
        "\n",
        "    email: the email we are checking the password for\n",
        "    stored_logins: a dictionary pointing from an email to its hashed password\n",
        "    password_to_check: a password we want to test alongside the email to login with\n",
        "    \"\"\"\n",
        "    if email not in stored_logins:\n",
        "        return False\n",
        "\n",
        "    return stored_logins[email] == hash_password(password_to_check)\n",
        "\n",
        "def main():\n",
        "    stored_logins = {\n",
        "        \"example@gmail.com\": \"5e884898da28047151d0e56f8dc6292773603d0d6aabbdd62a11ef721d1542d8\",\n",
        "        \"code_in_placer@cip.org\": \"973607a4ae7b4cf7d96a100b0fb07e8519cc4f70441d41214a9f811577bb06cc\",\n",
        "        \"student@stanford.edu\": \"882c6df720fd99f5eebb1581a1cf975625cea8a160283011c0b9512bb56c95fb\"\n",
        "    }\n",
        "\n",
        "    print(login(\"example@gmail.com\", stored_logins, \"word\"))\n",
        "    print(login(\"example@gmail.com\", stored_logins, \"password\"))\n",
        "\n",
        "    print(login(\"code_in_placer@cip.org\", stored_logins, \"Karel\"))\n",
        "    print(login(\"code_in_placer@cip.org\", stored_logins, \"karel\"))\n",
        "\n",
        "    print(login(\"student@stanford.edu\", stored_logins, \"password\"))\n",
        "    print(login(\"student@stanford.edu\", stored_logins, \"123!456?789\"))\n",
        "\n",
        "if __name__ == '__main__':\n",
        "    main()\n"
      ],
      "metadata": {
        "colab": {
          "base_uri": "https://localhost:8080/"
        },
        "id": "Mogy2gpkkaIc",
        "outputId": "b2089bcd-3ae5-4d94-bb29-af1416e1ea33"
      },
      "execution_count": 7,
      "outputs": [
        {
          "output_type": "stream",
          "name": "stdout",
          "text": [
            "False\n",
            "True\n",
            "False\n",
            "True\n",
            "False\n",
            "True\n"
          ]
        }
      ]
    }
  ]
}