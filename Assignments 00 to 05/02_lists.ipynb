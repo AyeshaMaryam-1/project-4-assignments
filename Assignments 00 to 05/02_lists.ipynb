{
  "nbformat": 4,
  "nbformat_minor": 0,
  "metadata": {
    "colab": {
      "provenance": [],
      "authorship_tag": "ABX9TyMSDrk4A6p5AiYUweGYvSI8",
      "include_colab_link": true
    },
    "kernelspec": {
      "name": "python3",
      "display_name": "Python 3"
    },
    "language_info": {
      "name": "python"
    }
  },
  "cells": [
    {
      "cell_type": "markdown",
      "metadata": {
        "id": "view-in-github",
        "colab_type": "text"
      },
      "source": [
        "<a href=\"https://colab.research.google.com/github/AyeshaMaryam-1/project-4-assignments/blob/main/Assignments%2000%20to%2005/02_lists.ipynb\" target=\"_parent\"><img src=\"https://colab.research.google.com/assets/colab-badge.svg\" alt=\"Open In Colab\"/></a>"
      ]
    },
    {
      "cell_type": "markdown",
      "source": [
        "#01_add_many_number"
      ],
      "metadata": {
        "id": "idA68IrO_rk6"
      }
    },
    {
      "cell_type": "code",
      "execution_count": null,
      "metadata": {
        "colab": {
          "base_uri": "https://localhost:8080/"
        },
        "id": "mvxJq9Ic_Zln",
        "outputId": "12f96fcf-3b0b-4ffb-f283-dcbda18b85a1"
      },
      "outputs": [
        {
          "output_type": "stream",
          "name": "stdout",
          "text": [
            "Sum of numbers is 15\n"
          ]
        }
      ],
      "source": [
        "def add_many_number(numbers) -> int:\n",
        "  total = 0\n",
        "  for number in numbers:\n",
        "    total += number\n",
        "  return total\n",
        "\n",
        "def main():\n",
        "  numbers: list = [1, 2, 3, 4, 5]\n",
        "  print(f\"Sum of numbers is {add_many_number(numbers)}\")\n",
        "\n",
        "\n",
        "if __name__ == '__main__':\n",
        "    main()"
      ]
    },
    {
      "cell_type": "markdown",
      "source": [
        "#02_double_list"
      ],
      "metadata": {
        "id": "t6GCkLZ2CWkD"
      }
    },
    {
      "cell_type": "code",
      "source": [
        "def main():\n",
        "  numbers: list = [1, 2, 3, 4, 5]\n",
        "  doubled_list: list = []\n",
        "\n",
        "  for number in numbers:\n",
        "    doubled_list.append(number * 2)\n",
        "\n",
        "  print(doubled_list)\n",
        "\n",
        "\n",
        "if __name__ == '__main__':\n",
        "    main()"
      ],
      "metadata": {
        "colab": {
          "base_uri": "https://localhost:8080/"
        },
        "id": "WM-Y5I2eCaVN",
        "outputId": "70293dad-1f63-4355-8fe9-128c41f9dab6"
      },
      "execution_count": null,
      "outputs": [
        {
          "output_type": "stream",
          "name": "stdout",
          "text": [
            "[2, 4, 6, 8, 10]\n"
          ]
        }
      ]
    },
    {
      "cell_type": "markdown",
      "source": [
        "#04_flowing_with_data_structures"
      ],
      "metadata": {
        "id": "VNZabsqXD5q8"
      }
    },
    {
      "cell_type": "code",
      "source": [
        "def add_three_copies(my_list, data):\n",
        "    for i in range(3):\n",
        "        my_list.append(data)\n",
        "\n",
        "def main():\n",
        "    message = input(\"Enter a message to copy: \")\n",
        "    my_list = []\n",
        "    print(\"List before:\", my_list)\n",
        "    add_three_copies(my_list, message)\n",
        "    print(\"List after:\", my_list)\n",
        "\n",
        "\n",
        "if __name__ == \"__main__\":\n",
        "    main()"
      ],
      "metadata": {
        "colab": {
          "base_uri": "https://localhost:8080/"
        },
        "id": "Pbr2ogWzD9xF",
        "outputId": "bb80927b-7124-47cf-a6c8-634203cc7568"
      },
      "execution_count": 1,
      "outputs": [
        {
          "output_type": "stream",
          "name": "stdout",
          "text": [
            "Enter a message to copy: Python\n",
            "List before: []\n",
            "List after: ['Python', 'Python', 'Python']\n"
          ]
        }
      ]
    },
    {
      "cell_type": "markdown",
      "source": [
        "#05_get_first_element"
      ],
      "metadata": {
        "id": "QhYPJOLmrih1"
      }
    },
    {
      "cell_type": "code",
      "source": [
        "def get_first_element(lst):\n",
        "    \"\"\"\n",
        "    Prints the first element of a provided list.\n",
        "    \"\"\"\n",
        "    print(lst[0])\n",
        "\n",
        "def get_lst():\n",
        "    \"\"\"\n",
        "    Prompts the user to enter one element of the list at a time and returns the resulting list.\n",
        "    \"\"\"\n",
        "    lst = []\n",
        "    elem: str = input(\"Please enter an element of the list or press enter to stop. \")\n",
        "    while elem != \"\":\n",
        "        lst.append(elem)\n",
        "        elem = input(\"Please enter an element of the list or press enter to stop. \")\n",
        "    return lst\n",
        "\n",
        "def main():\n",
        "    lst = get_lst()\n",
        "    get_first_element(lst)\n",
        "\n",
        "\n",
        "if __name__ == '__main__':\n",
        "    main()"
      ],
      "metadata": {
        "colab": {
          "base_uri": "https://localhost:8080/"
        },
        "id": "D8wtXNgTro8f",
        "outputId": "dfcbd206-8fa4-432f-86eb-a917d78d68fe"
      },
      "execution_count": 4,
      "outputs": [
        {
          "output_type": "stream",
          "name": "stdout",
          "text": [
            "Please enter an element of the list or press enter to stop. Ayesha\n",
            "Please enter an element of the list or press enter to stop. Maryam\n",
            "Please enter an element of the list or press enter to stop. \n",
            "Ayesha\n"
          ]
        }
      ]
    },
    {
      "cell_type": "markdown",
      "source": [
        "#06_get_last_element"
      ],
      "metadata": {
        "id": "OkGfWF1RxKDY"
      }
    },
    {
      "cell_type": "code",
      "source": [
        "def get_last_element(lst):\n",
        "    \"\"\"\n",
        "    Prints the last element of a provided list.\n",
        "    \"\"\"\n",
        "    print(lst[-1])\n",
        "\n",
        "def get_lst():\n",
        "    \"\"\"\n",
        "    Prompts the user to enter one element of the list at a time and returns the resulting list.\n",
        "    \"\"\"\n",
        "    lst = []\n",
        "    elem: str = input(\"Please enter an element of the list or press enter to stop. \")\n",
        "    while elem != \"\":\n",
        "        lst.append(elem)\n",
        "        elem = input(\"Please enter an element of the list or press enter to stop. \")\n",
        "    return lst\n",
        "\n",
        "def main():\n",
        "    lst = get_lst()\n",
        "    get_last_element(lst)\n",
        "\n",
        "\n",
        "if __name__ == '__main__':\n",
        "    main()"
      ],
      "metadata": {
        "colab": {
          "base_uri": "https://localhost:8080/"
        },
        "id": "dDMdKCCixPG4",
        "outputId": "bf631df1-0acd-4190-e199-fa3267bd0e9c"
      },
      "execution_count": 5,
      "outputs": [
        {
          "output_type": "stream",
          "name": "stdout",
          "text": [
            "Please enter an element of the list or press enter to stop. Ayesha\n",
            "Please enter an element of the list or press enter to stop. Maryam\n",
            "Please enter an element of the list or press enter to stop. \n",
            "Maryam\n"
          ]
        }
      ]
    },
    {
      "cell_type": "markdown",
      "source": [
        "#07_get_list"
      ],
      "metadata": {
        "id": "MB6AeIXzyctI"
      }
    },
    {
      "cell_type": "code",
      "source": [
        "def main():\n",
        "    lst = []\n",
        "\n",
        "    val = input(\"Enter a value: \")\n",
        "    while val:\n",
        "        lst.append(val)\n",
        "        val = input(\"Enter a value: \")\n",
        "\n",
        "    print(\"Here's the list:\", lst)\n",
        "\n",
        "if __name__ == '__main__':\n",
        "    main()"
      ],
      "metadata": {
        "colab": {
          "base_uri": "https://localhost:8080/"
        },
        "id": "uohRbUviycCR",
        "outputId": "acefccfd-f536-4839-e992-9d92aa6310be"
      },
      "execution_count": 6,
      "outputs": [
        {
          "output_type": "stream",
          "name": "stdout",
          "text": [
            "Enter a value: 1\n",
            "Enter a value: 2\n",
            "Enter a value: 3\n",
            "Enter a value: 4\n",
            "Enter a value: \n",
            "Here's the list: ['1', '2', '3', '4']\n"
          ]
        }
      ]
    },
    {
      "cell_type": "markdown",
      "source": [
        "#08_shorten"
      ],
      "metadata": {
        "id": "4i_PYueLy6tM"
      }
    },
    {
      "cell_type": "code",
      "source": [
        "MAX_LENGTH : int = 3\n",
        "\n",
        "def shorten(lst):\n",
        "    while len(lst) > MAX_LENGTH:\n",
        "        last_elem = lst.pop()\n",
        "        print(last_elem)\n",
        "\n",
        "def get_lst():\n",
        "    \"\"\"\n",
        "    Prompts the user to enter one element of the list at a time and returns the resulting list.\n",
        "    \"\"\"\n",
        "    lst = []\n",
        "    elem = input(\"Please enter an element of the list or press enter to stop. \")\n",
        "    while elem != \"\":\n",
        "        lst.append(elem)\n",
        "        elem = input(\"Please enter an element of the list or press enter to stop. \")\n",
        "    return lst\n",
        "\n",
        "def main():\n",
        "    lst = get_lst()\n",
        "    shorten(lst)\n",
        "\n",
        "\n",
        "if __name__ == '__main__':\n",
        "    main()"
      ],
      "metadata": {
        "colab": {
          "base_uri": "https://localhost:8080/"
        },
        "id": "vsJb3yn6y-bT",
        "outputId": "2c3c88fc-190a-4192-81aa-55fd8d6e9cce"
      },
      "execution_count": 11,
      "outputs": [
        {
          "output_type": "stream",
          "name": "stdout",
          "text": [
            "Please enter an element of the list or press enter to stop. 1\n",
            "Please enter an element of the list or press enter to stop. 2\n",
            "Please enter an element of the list or press enter to stop. 3\n",
            "Please enter an element of the list or press enter to stop. 4\n",
            "Please enter an element of the list or press enter to stop. \n",
            "4\n"
          ]
        }
      ]
    }
  ]
}