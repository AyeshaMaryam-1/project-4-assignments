{
  "nbformat": 4,
  "nbformat_minor": 0,
  "metadata": {
    "colab": {
      "provenance": [],
      "authorship_tag": "ABX9TyNyNGyFWOY+VfJAvgAFCsx6",
      "include_colab_link": true
    },
    "kernelspec": {
      "name": "python3",
      "display_name": "Python 3"
    },
    "language_info": {
      "name": "python"
    }
  },
  "cells": [
    {
      "cell_type": "markdown",
      "metadata": {
        "id": "view-in-github",
        "colab_type": "text"
      },
      "source": [
        "<a href=\"https://colab.research.google.com/github/AyeshaMaryam-1/project-4-assignments/blob/main/Assignments%2000%20to%2005/00_intro_python/00_intro_python.ipynb\" target=\"_parent\"><img src=\"https://colab.research.google.com/assets/colab-badge.svg\" alt=\"Open In Colab\"/></a>"
      ]
    },
    {
      "cell_type": "markdown",
      "source": [
        "#01_add_two_numbers"
      ],
      "metadata": {
        "id": "Xdfi7SbBZZtH"
      }
    },
    {
      "cell_type": "code",
      "execution_count": 1,
      "metadata": {
        "colab": {
          "base_uri": "https://localhost:8080/"
        },
        "id": "AuZA_aX8ZPMx",
        "outputId": "fd22b33a-fbf2-453a-931b-a7180cfee0c6"
      },
      "outputs": [
        {
          "output_type": "stream",
          "name": "stdout",
          "text": [
            "This program adds two numbers.\n",
            "Enter first number: 4\n",
            "Enter second number: 5\n",
            "The total is 9.\n"
          ]
        }
      ],
      "source": [
        "def main():\n",
        "    print(\"This program adds two numbers.\")\n",
        "    num1 : str = input(\"Enter first number: \") # take first input as a string\n",
        "    num1 : int = int(num1) # convert string input into an integer\n",
        "    num2  : str = input(\"Enter second number: \") # take second input as a string\n",
        "    num2 : int = int(num2) # convert string input into an integer\n",
        "    total : int = num1 + num2 # add two numbers\n",
        "    print(\"The total is \" + str(total) + \".\") # print the result\n",
        "\n",
        "if __name__ == '__main__':\n",
        "    main()"
      ]
    },
    {
      "cell_type": "markdown",
      "source": [
        "#02_agreement_bot"
      ],
      "metadata": {
        "id": "hEDuREAPaF72"
      }
    },
    {
      "cell_type": "code",
      "source": [
        "def main():\n",
        "  fav_animal : str = input(\"What's your favorite animal? \")\n",
        "  print(f\"My favorite animal is also {fav_animal}!\")\n",
        "\n",
        "if __name__ == '__main__':\n",
        "  main()"
      ],
      "metadata": {
        "colab": {
          "base_uri": "https://localhost:8080/"
        },
        "id": "kyrbVmhzaFI0",
        "outputId": "d6a83713-6900-49e1-e622-4d5b8ac20574"
      },
      "execution_count": 9,
      "outputs": [
        {
          "output_type": "stream",
          "name": "stdout",
          "text": [
            "What's your favorite animal? cat\n",
            "My favorite animal is also cat!\n"
          ]
        }
      ]
    },
    {
      "cell_type": "markdown",
      "source": [
        "#03_fahrenheit_to_celsius"
      ],
      "metadata": {
        "id": "tBVi2Qc2b7gZ"
      }
    },
    {
      "cell_type": "code",
      "source": [
        "def main():\n",
        "  degrees_fahrenheit = int(input(\"Enter temperature in Fahrenheit: \"))\n",
        "  degrees_celsius = (degrees_fahrenheit - 32) * 5.0/9.0\n",
        "  print(f\"Temperature: {degrees_fahrenheit}F = {degrees_celsius}C\")\n",
        "if __name__ == '__main__':\n",
        "  main()"
      ],
      "metadata": {
        "colab": {
          "base_uri": "https://localhost:8080/"
        },
        "id": "YmO6IGnJcEyH",
        "outputId": "5c7f2c98-5c39-4756-be39-b33b7f37fdc2"
      },
      "execution_count": 14,
      "outputs": [
        {
          "output_type": "stream",
          "name": "stdout",
          "text": [
            "Enter temperature in Fahrenheit: 98\n",
            "Temperature: 98F = 36.666666666666664C\n"
          ]
        }
      ]
    },
    {
      "cell_type": "markdown",
      "source": [
        "#04_how_old_are_they"
      ],
      "metadata": {
        "id": "bsSGOaqremOu"
      }
    },
    {
      "cell_type": "code",
      "source": [
        "def main():\n",
        "  anton_age = 21\n",
        "  beth_age = 6 + anton_age\n",
        "  chen_age = 20 + beth_age\n",
        "  drew_age = chen_age + anton_age\n",
        "  ethan_age = chen_age\n",
        "\n",
        "  print(f\"Anton is {anton_age}\")\n",
        "  print(f\"Beth is {beth_age}\")\n",
        "  print(f\"Chen is {chen_age}\")\n",
        "  print(f\"Drew is {drew_age}\")\n",
        "  print(f\"Ethan is {ethan_age}\")\n",
        "\n",
        "if __name__ == '__main__':\n",
        "  main()"
      ],
      "metadata": {
        "colab": {
          "base_uri": "https://localhost:8080/"
        },
        "id": "deUO8mvTe1Rv",
        "outputId": "42a4f478-353f-42fe-a89f-e93eb8a25e9c"
      },
      "execution_count": 15,
      "outputs": [
        {
          "output_type": "stream",
          "name": "stdout",
          "text": [
            "Anton is 21\n",
            "Beth is 27\n",
            "Chen is 47\n",
            "Drew is 68\n",
            "Ethan is 47\n"
          ]
        }
      ]
    },
    {
      "cell_type": "markdown",
      "source": [
        "#05_triangle_perimeter"
      ],
      "metadata": {
        "id": "SuaDUmnegmfr"
      }
    },
    {
      "cell_type": "code",
      "source": [
        "def main():\n",
        "  side_1 = float(input(\"Enter the length of side 1: \"))\n",
        "  side_2 = float(input(\"Enter the length of side 2: \"))\n",
        "  side_3 = float(input(\"Enter the length of side 3: \"))\n",
        "  perimeter = side_1 + side_2 + side_3\n",
        "  print(f\"The perimeter of the triangle is {perimeter}\")\n",
        "\n",
        "if __name__ == '__main__':\n",
        "  main()"
      ],
      "metadata": {
        "colab": {
          "base_uri": "https://localhost:8080/"
        },
        "id": "geotZrH9gsU1",
        "outputId": "e82fb76a-c882-4d11-ec7b-8e3997f7f3d5"
      },
      "execution_count": 16,
      "outputs": [
        {
          "output_type": "stream",
          "name": "stdout",
          "text": [
            "Enter the length of side 1: 8\n",
            "Enter the length of side 2: 4\n",
            "Enter the length of side 3: 2.5\n",
            "The perimeter of the triangle is 14.5\n"
          ]
        }
      ]
    },
    {
      "cell_type": "markdown",
      "source": [
        "#06_square_number"
      ],
      "metadata": {
        "id": "QN_3avrnmWSF"
      }
    },
    {
      "cell_type": "code",
      "source": [
        "def main():\n",
        "  num = int(input(\"Enter a number to see it's square: \"))\n",
        "  square = num ** 2\n",
        "  print(f\"The square of {num} is {square}\")\n",
        "\n",
        "if __name__ == '__main__':\n",
        "    main()"
      ],
      "metadata": {
        "colab": {
          "base_uri": "https://localhost:8080/"
        },
        "id": "XTJ-BmpEmYd4",
        "outputId": "2d25369f-ca94-4490-a08d-818238639308"
      },
      "execution_count": 18,
      "outputs": [
        {
          "output_type": "stream",
          "name": "stdout",
          "text": [
            "Enter a number to see it's square: 12\n",
            "The square of 12 is 144\n"
          ]
        }
      ]
    }
  ]
}