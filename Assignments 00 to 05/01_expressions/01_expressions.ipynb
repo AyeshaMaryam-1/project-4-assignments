{
  "nbformat": 4,
  "nbformat_minor": 0,
  "metadata": {
    "colab": {
      "provenance": [],
      "authorship_tag": "ABX9TyPeItNT0FMOi/qbQTjLMsh8",
      "include_colab_link": true
    },
    "kernelspec": {
      "name": "python3",
      "display_name": "Python 3"
    },
    "language_info": {
      "name": "python"
    }
  },
  "cells": [
    {
      "cell_type": "markdown",
      "metadata": {
        "id": "view-in-github",
        "colab_type": "text"
      },
      "source": [
        "<a href=\"https://colab.research.google.com/github/AyeshaMaryam-1/project-4-assignments/blob/main/Assignments%2000%20to%2005/01_expressions/01_expressions.ipynb\" target=\"_parent\"><img src=\"https://colab.research.google.com/assets/colab-badge.svg\" alt=\"Open In Colab\"/></a>"
      ]
    },
    {
      "cell_type": "markdown",
      "source": [
        "#01_dicesimulator"
      ],
      "metadata": {
        "id": "Abz90RSDuqQx"
      }
    },
    {
      "cell_type": "code",
      "execution_count": 2,
      "metadata": {
        "colab": {
          "base_uri": "https://localhost:8080/"
        },
        "id": "GrMrlLDnunCJ",
        "outputId": "7282380c-24ee-4ad3-fe7b-32a67052b40a"
      },
      "outputs": [
        {
          "output_type": "stream",
          "name": "stdout",
          "text": [
            "Rolling two dice three times:\n",
            "\n",
            "Rolled: 1 and 1\n",
            "Rolled: 6 and 1\n",
            "Rolled: 2 and 5\n"
          ]
        }
      ],
      "source": [
        "# Import the random library which lets us simulate random things like dice!\n",
        "import random\n",
        "\n",
        "def roll_dice():\n",
        "    # These variables are local to the roll_dice function\n",
        "    die1 = random.randint(1, 6)\n",
        "    die2 = random.randint(1, 6)\n",
        "    print(f\"Rolled: {die1} and {die2}\")\n",
        "\n",
        "def main():\n",
        "    print(\"Rolling two dice three times:\\n\")\n",
        "    roll_dice()  # First roll\n",
        "    roll_dice()  # Second roll\n",
        "    roll_dice()  # Third roll\n",
        "\n",
        "if __name__ == \"__main__\":\n",
        "    main()\n"
      ]
    },
    {
      "cell_type": "markdown",
      "source": [
        "#02_e=mc2"
      ],
      "metadata": {
        "id": "ikE86A6xxice"
      }
    },
    {
      "cell_type": "code",
      "source": [
        "def main():\n",
        "  c: int = 299792458 # speed of light in m/s\n",
        "  mass_in_kg = float(input(\"Enter mass in kilograms: \"))\n",
        "\n",
        "  # equivalent energy using Einstein's mass-energy equivalence formula E = m * c**2\n",
        "  energy_in_joules = mass_in_kg * c ** 2\n",
        "\n",
        "  print(\"m = \" + str(mass_in_kg) + \"kg\")\n",
        "  print(\"c = \" + str(c) + \"m/s\")\n",
        "  print(\"Equivalent Energy formula: E = mc^2\")\n",
        "  print(f\"{energy_in_joules} joules of energy!\")\n",
        "\n",
        "if __name__ == '__main__':\n",
        "  main()"
      ],
      "metadata": {
        "colab": {
          "base_uri": "https://localhost:8080/"
        },
        "id": "LEHOs3KwxnXt",
        "outputId": "9654a07b-3fcb-4974-e2a0-d7ca515d6e8a"
      },
      "execution_count": 9,
      "outputs": [
        {
          "output_type": "stream",
          "name": "stdout",
          "text": [
            "Enter mass in kilograms: 10.00\n",
            "m = 10.0kg\n",
            "c = 299792458m/s\n",
            "Equivalent Energy formula: E = mc^2\n",
            "8.987551787368177e+17 joules of energy!\n"
          ]
        }
      ]
    },
    {
      "cell_type": "markdown",
      "source": [
        "#03_feet_to_inches"
      ],
      "metadata": {
        "id": "8VBmc5IjyMcL"
      }
    },
    {
      "cell_type": "code",
      "source": [
        "def main():\n",
        "  inches_in_foot: int = 12\n",
        "\n",
        "  feet: float = float(input(\"Enter a number in feet: \"))\n",
        "  inches: float = feet * inches_in_foot\n",
        "\n",
        "  print(f\"There are {inches} inches in {feet} feet\")\n",
        "\n",
        "if __name__ == '__main__':\n",
        "  main()"
      ],
      "metadata": {
        "colab": {
          "base_uri": "https://localhost:8080/"
        },
        "id": "CeSSP1asyKDg",
        "outputId": "91d582bc-2691-42a9-e9f0-ff485e7f5485"
      },
      "execution_count": 11,
      "outputs": [
        {
          "output_type": "stream",
          "name": "stdout",
          "text": [
            "Enter a number in feet: 4\n",
            "There are 48 inches in 4 feet\n"
          ]
        }
      ]
    },
    {
      "cell_type": "markdown",
      "source": [
        "#04_pythagorean_theorem"
      ],
      "metadata": {
        "id": "g0bICHQH4ZeZ"
      }
    },
    {
      "cell_type": "code",
      "source": [
        "import math\n",
        "\n",
        "def main():\n",
        "  # According to the Pythagorean theorem: BC ** 2 = AB ** 2 + AC ** 2\n",
        "\n",
        "  ab: float = float(input(\"Enter the length of AB: \"))\n",
        "  ac: float = float(input(\"Enter the length of AC: \"))\n",
        "  bc: float = math.sqrt(ab ** 2 + ac ** 2)\n",
        "\n",
        "  print(f\"The length of BC (the hypotenuse) is: \" + str(bc))\n",
        "\n",
        "if __name__ == '__main__':\n",
        "  main()"
      ],
      "metadata": {
        "colab": {
          "base_uri": "https://localhost:8080/"
        },
        "id": "5hl7OnJn4iy6",
        "outputId": "700287ad-bdb4-4664-aaf2-ee2f5f4bb033"
      },
      "execution_count": 13,
      "outputs": [
        {
          "output_type": "stream",
          "name": "stdout",
          "text": [
            "Enter the length of AB: 4\n",
            "Enter the length of AC: 3\n",
            "The length of BC (the hypotenuse) is: 5.0\n"
          ]
        }
      ]
    },
    {
      "cell_type": "markdown",
      "source": [
        "#05_remainder_division"
      ],
      "metadata": {
        "id": "rt4DeaZM6KrA"
      }
    },
    {
      "cell_type": "code",
      "source": [
        "def main():\n",
        "  dividend: int = int(input(\"Enter the dividend: \"))\n",
        "  divisor: int = int(input(\"Enter the divisor: \"))\n",
        "\n",
        "  quotient: int = dividend // divisor\n",
        "  remainder: int = dividend % divisor\n",
        "\n",
        "  print(f\"The result is {quotient}\")\n",
        "  print(f\"The remainder is {remainder}\")\n",
        "\n",
        "if __name__ == '__main__':\n",
        "  main()"
      ],
      "metadata": {
        "colab": {
          "base_uri": "https://localhost:8080/"
        },
        "id": "VTBBuIyc6RMd",
        "outputId": "18fcb8de-ff0e-44a0-ed52-f97ecb431b53"
      },
      "execution_count": 16,
      "outputs": [
        {
          "output_type": "stream",
          "name": "stdout",
          "text": [
            "Enter the dividend: 38\n",
            "Enter the divisor: 5\n",
            "The result is 7\n",
            "The remainder is 3\n"
          ]
        }
      ]
    },
    {
      "cell_type": "markdown",
      "source": [
        "#06_rolldice"
      ],
      "metadata": {
        "id": "ELPhnQWP7VKc"
      }
    },
    {
      "cell_type": "code",
      "source": [
        "import random\n",
        "\n",
        "def main():\n",
        "  die1: int= random.randint(1, 6)\n",
        "  die2: int= random.randint(1, 6)\n",
        "  total = die1 + die2\n",
        "\n",
        "  print(f\"Rolled: {die1} and {die2}\")\n",
        "  print(f\"The total is {total}\")\n",
        "\n",
        "if __name__ == '__main__':\n",
        "  main()"
      ],
      "metadata": {
        "colab": {
          "base_uri": "https://localhost:8080/"
        },
        "id": "amEFWZqM7WpO",
        "outputId": "e82bef88-72cb-4fd5-fd1b-6e0ee1251893"
      },
      "execution_count": 19,
      "outputs": [
        {
          "output_type": "stream",
          "name": "stdout",
          "text": [
            "Rolled: 6 and 6\n",
            "The total is 12\n"
          ]
        }
      ]
    },
    {
      "cell_type": "markdown",
      "source": [
        "#06_seconds_in_year"
      ],
      "metadata": {
        "id": "V5vfC6TA8NdP"
      }
    },
    {
      "cell_type": "code",
      "source": [
        "day_per_year = 365\n",
        "hours_per_day = 24\n",
        "minutes_per_hour = 60\n",
        "seconds_per_minute = 60\n",
        "\n",
        "def main():\n",
        "  seconds_in_year = day_per_year * hours_per_day * minutes_per_hour * seconds_per_minute\n",
        "\n",
        "  print(f\"There are {seconds_in_year} seconds in a year!\")\n",
        "\n",
        "if __name__ == '__main__':\n",
        "  main()"
      ],
      "metadata": {
        "colab": {
          "base_uri": "https://localhost:8080/"
        },
        "id": "VlLwIhpf8Oxb",
        "outputId": "fca46577-079a-4040-f28b-7762c2727519"
      },
      "execution_count": 20,
      "outputs": [
        {
          "output_type": "stream",
          "name": "stdout",
          "text": [
            "There are 31536000 seconds in a year!\n"
          ]
        }
      ]
    },
    {
      "cell_type": "markdown",
      "source": [
        "#07_tiny_mad_lib"
      ],
      "metadata": {
        "id": "lnIfXQK2-Dn8"
      }
    },
    {
      "cell_type": "code",
      "source": [
        "SENTENCE_START = \"Learning Python is awesome. I created a project where my\"\n",
        "\n",
        "def main():\n",
        "  # Prompt user for inputs\n",
        "  adjective = input(\"Please type an adjective and press enter. \")\n",
        "  noun = input(\"Please type a noun and press enter. \")\n",
        "  verb = input(\"Please type a verb and press enter. \")\n",
        "\n",
        "  # Print the fun sentence\n",
        "  print(f\"{SENTENCE_START} {adjective} {noun} {verb}!\")\n",
        "\n",
        "if __name__ == '__main__':\n",
        "  main()\n"
      ],
      "metadata": {
        "colab": {
          "base_uri": "https://localhost:8080/"
        },
        "id": "6YNFOHOx-D0n",
        "outputId": "d52fe249-64dd-415d-ddb2-582c18ff4d9f"
      },
      "execution_count": 21,
      "outputs": [
        {
          "output_type": "stream",
          "name": "stdout",
          "text": [
            "Please type an adjective and press enter. magical\n",
            "Please type a noun and press enter. robot\n",
            "Please type a verb and press enter. dance\n",
            "Learning Python is awesome. I created a project where my magical robot dance!\n"
          ]
        }
      ]
    }
  ]
}