{
  "nbformat": 4,
  "nbformat_minor": 0,
  "metadata": {
    "colab": {
      "provenance": [],
      "authorship_tag": "ABX9TyOk44zXxLbk8HLGJYQGPHka",
      "include_colab_link": true
    },
    "kernelspec": {
      "name": "python3",
      "display_name": "Python 3"
    },
    "language_info": {
      "name": "python"
    }
  },
  "cells": [
    {
      "cell_type": "markdown",
      "metadata": {
        "id": "view-in-github",
        "colab_type": "text"
      },
      "source": [
        "<a href=\"https://colab.research.google.com/github/AyeshaMaryam-1/project-4-assignments/blob/main/Assignments%2000%20to%2005/07_information_flow/07_information_flow.ipynb\" target=\"_parent\"><img src=\"https://colab.research.google.com/assets/colab-badge.svg\" alt=\"Open In Colab\"/></a>"
      ]
    },
    {
      "cell_type": "markdown",
      "source": [
        "#00_choosing_returns"
      ],
      "metadata": {
        "id": "8iZaosLrUj5h"
      }
    },
    {
      "cell_type": "code",
      "execution_count": 3,
      "metadata": {
        "colab": {
          "base_uri": "https://localhost:8080/"
        },
        "id": "Ps9r9a8OUgrl",
        "outputId": "dd5ba054-abdc-4863-9900-c362900173a6"
      },
      "outputs": [
        {
          "output_type": "stream",
          "name": "stdout",
          "text": [
            "How old is this person?: 19\n",
            "True\n"
          ]
        }
      ],
      "source": [
        "ADULT_AGE : int = 18\n",
        "\n",
        "def is_adult(age: int):\n",
        "    if age >= ADULT_AGE:\n",
        "        return True\n",
        "\n",
        "    return False\n",
        "\n",
        "def main():\n",
        "    age : str = int(input(\"How old is this person?: \"))\n",
        "    print(is_adult(age))\n",
        "\n",
        "\n",
        "if __name__ == \"__main__\":\n",
        "    main()"
      ]
    },
    {
      "cell_type": "markdown",
      "source": [
        "#01_greetings"
      ],
      "metadata": {
        "id": "JgfJyLoJU_0d"
      }
    },
    {
      "cell_type": "code",
      "source": [
        "def main():\n",
        "    name: str = input(\"What's your name? \")\n",
        "    greet(name)\n",
        "\n",
        "\n",
        "def greet(name):\n",
        "    print(\"Greetings \" + name + \"!\")\n",
        "\n",
        "if __name__ == '__main__':\n",
        "    main()\n"
      ],
      "metadata": {
        "colab": {
          "base_uri": "https://localhost:8080/"
        },
        "id": "WUEyLzNSVE7O",
        "outputId": "9e462344-a615-4433-a428-cb2339913034"
      },
      "execution_count": 4,
      "outputs": [
        {
          "output_type": "stream",
          "name": "stdout",
          "text": [
            "What's your name? Ayesha Maryam\n",
            "Greetings Ayesha Maryam!\n"
          ]
        }
      ]
    },
    {
      "cell_type": "markdown",
      "source": [
        "#02_in_range"
      ],
      "metadata": {
        "id": "MG5TAClrVYng"
      }
    },
    {
      "cell_type": "code",
      "source": [
        "def in_range(n, low, high):\n",
        "    \"\"\"\n",
        "    Returns True if n is between low and high, inclusive.\n",
        "    high is guaranteed to be greater than low.\n",
        "    \"\"\"\n",
        "    if n >= low and n <= high:\n",
        "        return True\n",
        "    return False\n",
        "\n",
        "def main():\n",
        "    num = int(input(\"Enter a number: \"))\n",
        "    low = int(input(\"Enter the low range: \"))\n",
        "    high = int(input(\"Enter the high range: \"))\n",
        "\n",
        "    if in_range(num, low, high):\n",
        "        print(f\"{num} is within the range {low} to {high}.\")\n",
        "    else:\n",
        "        print(f\"{num} is outside the range {low} to {high}.\")\n",
        "\n",
        "if __name__ == \"__main__\":\n",
        "    main()"
      ],
      "metadata": {
        "colab": {
          "base_uri": "https://localhost:8080/"
        },
        "id": "96-iWvEZVciV",
        "outputId": "b86db655-f809-428d-9e8c-54894131a438"
      },
      "execution_count": 7,
      "outputs": [
        {
          "output_type": "stream",
          "name": "stdout",
          "text": [
            "Enter a number: 25\n",
            "Enter the low range: 15\n",
            "Enter the high range: 35\n",
            "25 is within the range 15 to 35.\n"
          ]
        }
      ]
    },
    {
      "cell_type": "markdown",
      "source": [
        "#03_in_stock"
      ],
      "metadata": {
        "id": "6mVFm78WV9NZ"
      }
    },
    {
      "cell_type": "code",
      "source": [
        "def main():\n",
        "    fruit = input(\"Enter a fruit: \")\n",
        "\n",
        "    stock = num_in_stock(fruit)\n",
        "\n",
        "    if stock == 0:\n",
        "        print(\"This fruit is not in stock.\")\n",
        "    else:\n",
        "        print(\"This fruit is in stock! Here is how many:\")\n",
        "        print(stock)\n",
        "\n",
        "def num_in_stock(fruit):\n",
        "    \"\"\"\n",
        "    This function returns the number of fruit Sophia has in stock.\n",
        "    \"\"\"\n",
        "    if fruit == 'apple':\n",
        "        return 2\n",
        "    if fruit == 'durian':\n",
        "        return 4\n",
        "    if fruit == 'pear':\n",
        "        return 1000\n",
        "    else:\n",
        "        return 0\n",
        "\n",
        "if __name__ == '__main__':\n",
        "    main()\n"
      ],
      "metadata": {
        "colab": {
          "base_uri": "https://localhost:8080/"
        },
        "id": "C_uraaJIWAhF",
        "outputId": "5efb3724-d837-408c-976d-450157021bb4"
      },
      "execution_count": 9,
      "outputs": [
        {
          "output_type": "stream",
          "name": "stdout",
          "text": [
            "Enter a fruit: apple\n",
            "This fruit is in stock! Here is how many:\n",
            "2\n"
          ]
        }
      ]
    },
    {
      "cell_type": "markdown",
      "source": [
        "#04_multiple_returns"
      ],
      "metadata": {
        "id": "BLmZPuWsWZxM"
      }
    },
    {
      "cell_type": "code",
      "source": [
        "def get_user_info():\n",
        "    first_name: str = input(\"What is your first name?: \")\n",
        "    last_name: str = input(\"What is your last name?: \")\n",
        "    email_address: str = input(\"What is your email address?: \")\n",
        "\n",
        "    return first_name, last_name, email_address\n",
        "\n",
        "\n",
        "def main():\n",
        "    user_data = get_user_info()\n",
        "\n",
        "    print(\"Received the following user data:\", user_data)\n",
        "\n",
        "if __name__ == \"__main__\":\n",
        "    main()\n"
      ],
      "metadata": {
        "colab": {
          "base_uri": "https://localhost:8080/"
        },
        "id": "PSb5E836Wdyu",
        "outputId": "7468c01c-f6ff-48eb-a6d4-843996098d5c"
      },
      "execution_count": 11,
      "outputs": [
        {
          "output_type": "stream",
          "name": "stdout",
          "text": [
            "What is your first name?: Jane\n",
            "What is your last name?: Stanford\n",
            "What is your email address?: janestanford@stanford.edu\n",
            "Received the following user data: ('Jane', 'Stanford', 'janestanford@stanford.edu')\n"
          ]
        }
      ]
    },
    {
      "cell_type": "markdown",
      "source": [
        "#05_subtract_7"
      ],
      "metadata": {
        "id": "oMoNVXfFW-j6"
      }
    },
    {
      "cell_type": "code",
      "source": [
        "def subtract_seven(num):\n",
        "    return num - 7\n",
        "\n",
        "def main():\n",
        "    num = int(input(\"Enter a number: \"))\n",
        "    result = subtract_seven(num)\n",
        "    print(\"Result after subtracting 7:\", result)\n",
        "\n",
        "if __name__ == '__main__':\n",
        "    main()"
      ],
      "metadata": {
        "colab": {
          "base_uri": "https://localhost:8080/"
        },
        "id": "T0VoJXbKgVKw",
        "outputId": "5201904c-66fa-4e88-8383-9620e9ae0525"
      },
      "execution_count": 13,
      "outputs": [
        {
          "output_type": "stream",
          "name": "stdout",
          "text": [
            "Enter a number: 27\n",
            "Result after subtracting 7: 20\n"
          ]
        }
      ]
    }
  ]
}