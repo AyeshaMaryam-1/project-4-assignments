{
  "nbformat": 4,
  "nbformat_minor": 0,
  "metadata": {
    "colab": {
      "provenance": [],
      "authorship_tag": "ABX9TyPWi5OzREhNH5sdySDF3AFF",
      "include_colab_link": true
    },
    "kernelspec": {
      "name": "python3",
      "display_name": "Python 3"
    },
    "language_info": {
      "name": "python"
    }
  },
  "cells": [
    {
      "cell_type": "markdown",
      "metadata": {
        "id": "view-in-github",
        "colab_type": "text"
      },
      "source": [
        "<a href=\"https://colab.research.google.com/github/AyeshaMaryam-1/project-4-assignments/blob/main/Assignments%2000%20to%2005/03_if_statements/03_if_statements.ipynb\" target=\"_parent\"><img src=\"https://colab.research.google.com/assets/colab-badge.svg\" alt=\"Open In Colab\"/></a>"
      ]
    },
    {
      "cell_type": "markdown",
      "source": [
        "#01_print_events"
      ],
      "metadata": {
        "id": "VNvQMC9ZbuqC"
      }
    },
    {
      "cell_type": "code",
      "execution_count": 1,
      "metadata": {
        "colab": {
          "base_uri": "https://localhost:8080/"
        },
        "id": "Ek08a-XYbeix",
        "outputId": "ed8ac6fd-beb8-439a-f384-778c7e9a8300"
      },
      "outputs": [
        {
          "output_type": "stream",
          "name": "stdout",
          "text": [
            "0\n",
            "2\n",
            "4\n",
            "6\n",
            "8\n",
            "10\n",
            "12\n",
            "14\n",
            "16\n",
            "18\n",
            "20\n",
            "22\n",
            "24\n",
            "26\n",
            "28\n",
            "30\n",
            "32\n",
            "34\n",
            "36\n",
            "38\n"
          ]
        }
      ],
      "source": [
        "def main():\n",
        "    for i in range(20):\n",
        "        print(i * 2)\n",
        "\n",
        "if __name__ == \"__main__\":\n",
        "    main()"
      ]
    },
    {
      "cell_type": "markdown",
      "source": [
        "#02_international_voting_age"
      ],
      "metadata": {
        "id": "Dy93DDgfcZam"
      }
    },
    {
      "cell_type": "code",
      "source": [
        "PETURKSBOUIPO_AGE : int = 16\n",
        "STANLAU_AGE : int = 25\n",
        "MAYENGUA_AGE : int = 48\n",
        "\n",
        "def main():\n",
        "  user_age = int(input(\"How old are you? \"))\n",
        "\n",
        "  if user_age >= PETURKSBOUIPO_AGE:\n",
        "    print(f\"You can vote in Peturksbouipo where the voting age is {PETURKSBOUIPO_AGE}.\")\n",
        "  else:\n",
        "    print(f\"You can vote in Peturksbouipo where the voting age is {PETURKSBOUIPO_AGE}.\")\n",
        "\n",
        "  if user_age >= STANLAU_AGE:\n",
        "    print(f\"You can vote in Stanlau where the voting age is {STANLAU_AGE}.\")\n",
        "  else:\n",
        "    print(f\"You cannot vote in Stanlau where the voting age is {STANLAU_AGE}.\")\n",
        "\n",
        "  if user_age >= MAYENGUA_AGE:\n",
        "    print(f\"You can vote in Mayengua where the voting age is {MAYENGUA_AGE}.\")\n",
        "  else:\n",
        "    print(f\"You cannot vote in Mayengua where the voting age is {MAYENGUA_AGE}.\")\n",
        "\n",
        "\n",
        "if __name__ == \"__main__\":\n",
        "    main()"
      ],
      "metadata": {
        "colab": {
          "base_uri": "https://localhost:8080/"
        },
        "id": "gSdrxisJcd6s",
        "outputId": "13f84471-bb30-4c91-c630-14ec247a650e"
      },
      "execution_count": 6,
      "outputs": [
        {
          "output_type": "stream",
          "name": "stdout",
          "text": [
            "How old are you? 20\n",
            "You can vote in Peturksbouipo where the voting age is 16.\n",
            "You cannot vote in Stanlau where the voting age is 25.\n",
            "You cannot vote in Mayengua where the voting age is 48.\n"
          ]
        }
      ]
    },
    {
      "cell_type": "markdown",
      "source": [
        "#03_leap_year"
      ],
      "metadata": {
        "id": "kKf8fDote30H"
      }
    },
    {
      "cell_type": "code",
      "source": [
        "def main():\n",
        "    year = int(input('Please input a year: '))\n",
        "\n",
        "    if year % 4 == 0:\n",
        "        if year % 100 == 0:\n",
        "            if year % 400 == 0:\n",
        "                print(\"That's a leap year!\")\n",
        "            else:\n",
        "                print(\"That's not a leap year.\")\n",
        "        else:\n",
        "            print(\"That's a leap year!\")\n",
        "    else:\n",
        "        print(\"That's not a leap year.\")\n",
        "\n",
        "\n",
        "\n",
        "if __name__ == '__main__':\n",
        "    main()"
      ],
      "metadata": {
        "colab": {
          "base_uri": "https://localhost:8080/"
        },
        "id": "TEDTZPK1e7IU",
        "outputId": "4d6f48f5-66cc-4286-b768-8eb5bf6c0113"
      },
      "execution_count": 3,
      "outputs": [
        {
          "output_type": "stream",
          "name": "stdout",
          "text": [
            "Please input a year: 2025\n",
            "That's not a leap year.\n"
          ]
        }
      ]
    },
    {
      "cell_type": "markdown",
      "source": [
        "#04_tall_enough_to_ride"
      ],
      "metadata": {
        "id": "DP8-BFVjgZcL"
      }
    },
    {
      "cell_type": "code",
      "source": [
        "MINIMUM_HEIGHT: int = 50\n",
        "\n",
        "def tall_enough_extension():\n",
        "    while True:\n",
        "        user_input = input(\"How tall are you? (Press Enter to quit) \")\n",
        "        if user_input == \"\":\n",
        "            print(\"Goodbye!\")\n",
        "            break\n",
        "        try:\n",
        "            height = float(user_input)\n",
        "            if height >= MINIMUM_HEIGHT:\n",
        "                print(\"You're tall enough to ride!\")\n",
        "            else:\n",
        "                print(\"You're not tall enough to ride, but maybe next year!\")\n",
        "        except ValueError:\n",
        "            print(\"Please enter a valid number.\")\n",
        "\n",
        "if __name__ == '__main__':\n",
        "    tall_enough_extension()\n"
      ],
      "metadata": {
        "colab": {
          "base_uri": "https://localhost:8080/"
        },
        "id": "3CgdXg6kgU6H",
        "outputId": "4a23fb7f-6a69-43af-ede1-1327176ad4bd"
      },
      "execution_count": 4,
      "outputs": [
        {
          "output_type": "stream",
          "name": "stdout",
          "text": [
            "How tall are you? (Press Enter to quit) 40\n",
            "You're not tall enough to ride, but maybe next year!\n",
            "How tall are you? (Press Enter to quit) 50\n",
            "You're tall enough to ride!\n",
            "How tall are you? (Press Enter to quit) \n",
            "Goodbye!\n"
          ]
        }
      ]
    },
    {
      "cell_type": "markdown",
      "source": [
        "#05_random_numbers"
      ],
      "metadata": {
        "id": "-HwSCGxQgdMb"
      }
    },
    {
      "cell_type": "code",
      "source": [
        "import random\n",
        "\n",
        "def main():\n",
        "    for _ in range(10):\n",
        "        print(random.randint(1, 100), end=' ')\n",
        "\n",
        "if __name__ == '__main__':\n",
        "    main()\n"
      ],
      "metadata": {
        "colab": {
          "base_uri": "https://localhost:8080/"
        },
        "id": "JjxspYt4ghYS",
        "outputId": "99bb68f6-1e92-4e04-98cc-566d1238a1ed"
      },
      "execution_count": 6,
      "outputs": [
        {
          "output_type": "stream",
          "name": "stdout",
          "text": [
            "30 74 32 75 13 95 14 1 72 5 "
          ]
        }
      ]
    }
  ]
}