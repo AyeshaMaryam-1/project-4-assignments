{
  "nbformat": 4,
  "nbformat_minor": 0,
  "metadata": {
    "colab": {
      "provenance": [],
      "authorship_tag": "ABX9TyN01p8vExDECM1dDll1ddtR",
      "include_colab_link": true
    },
    "kernelspec": {
      "name": "python3",
      "display_name": "Python 3"
    },
    "language_info": {
      "name": "python"
    }
  },
  "cells": [
    {
      "cell_type": "markdown",
      "metadata": {
        "id": "view-in-github",
        "colab_type": "text"
      },
      "source": [
        "<a href=\"https://colab.research.google.com/github/AyeshaMaryam-1/project-4-assignments/blob/main/02_intermediate/Control%20Flow%20for%20Console%20/Control_Flow_for_Console.ipynb\" target=\"_parent\"><img src=\"https://colab.research.google.com/assets/colab-badge.svg\" alt=\"Open In Colab\"/></a>"
      ]
    },
    {
      "cell_type": "markdown",
      "source": [
        "#handout"
      ],
      "metadata": {
        "id": "fGnfGQyH0tir"
      }
    },
    {
      "cell_type": "code",
      "execution_count": 1,
      "metadata": {
        "colab": {
          "base_uri": "https://localhost:8080/"
        },
        "id": "dCK4s78fzgkH",
        "outputId": "40c66a6b-17c2-406b-f849-0072160cc446"
      },
      "outputs": [
        {
          "output_type": "stream",
          "name": "stdout",
          "text": [
            "Welcome to the High-Low Game!\n",
            "--------------------------------\n",
            "Round 1\n",
            "Your number is 90\n",
            "Do you think your number is higher or lower than the computer's?: higher\n",
            "You were right! The computer's number was 61\n",
            "Your score is now 1\n",
            "\n",
            "Round 2\n",
            "Your number is 68\n",
            "Do you think your number is higher or lower than the computer's?: higher\n",
            "You were right! The computer's number was 50\n",
            "Your score is now 2\n",
            "\n",
            "Round 3\n",
            "Your number is 18\n",
            "Do you think your number is higher or lower than the computer's?: lower\n",
            "Aww, that's incorrect. The computer's number was 11\n",
            "Your score is now 2\n",
            "\n",
            "Round 4\n",
            "Your number is 10\n",
            "Do you think your number is higher or lower than the computer's?: lower\n",
            "You were right! The computer's number was 67\n",
            "Your score is now 3\n",
            "\n",
            "Round 5\n",
            "Your number is 2\n",
            "Do you think your number is higher or lower than the computer's?: lower\n",
            "You were right! The computer's number was 33\n",
            "Your score is now 4\n",
            "\n",
            "Thanks for playing!\n",
            "Good job, you played really well!\n"
          ]
        }
      ],
      "source": [
        "import random\n",
        "\n",
        "NUM_ROUNDS = 5\n",
        "MIN_VALUE = 1\n",
        "MAX_VALUE = 100\n",
        "\n",
        "def get_user_guess():\n",
        "    \"\"\"\n",
        "    Prompt the user until they enter 'higher' or 'lower'.\n",
        "    \"\"\"\n",
        "    guess = input(\"Do you think your number is higher or lower than the computer's?: \").strip().lower()\n",
        "    while guess not in [\"higher\", \"lower\"]:\n",
        "        guess = input(\"Please enter either higher or lower: \").strip().lower()\n",
        "    return guess\n",
        "\n",
        "def play_round(round_number, score):\n",
        "    print(f\"Round {round_number}\")\n",
        "    user_number = random.randint(MIN_VALUE, MAX_VALUE)\n",
        "    computer_number = random.randint(MIN_VALUE, MAX_VALUE)\n",
        "\n",
        "    print(f\"Your number is {user_number}\")\n",
        "    guess = get_user_guess()\n",
        "\n",
        "    correct = False\n",
        "    if guess == \"higher\" and user_number > computer_number:\n",
        "        correct = True\n",
        "    elif guess == \"lower\" and user_number < computer_number:\n",
        "        correct = True\n",
        "\n",
        "    if correct:\n",
        "        print(f\"You were right! The computer's number was {computer_number}\")\n",
        "        score += 1\n",
        "    else:\n",
        "        print(f\"Aww, that's incorrect. The computer's number was {computer_number}\")\n",
        "\n",
        "    print(f\"Your score is now {score}\\n\")\n",
        "    return score\n",
        "\n",
        "def print_ending_message(score):\n",
        "    print(\"Thanks for playing!\")\n",
        "    if score == NUM_ROUNDS:\n",
        "        print(\"Wow! You played perfectly!\")\n",
        "    elif score >= NUM_ROUNDS // 2:\n",
        "        print(\"Good job, you played really well!\")\n",
        "    else:\n",
        "        print(\"Better luck next time!\")\n",
        "\n",
        "def main():\n",
        "    print(\"Welcome to the High-Low Game!\")\n",
        "    print(\"--------------------------------\")\n",
        "    score = 0\n",
        "\n",
        "    for round_number in range(1, NUM_ROUNDS + 1):\n",
        "        score = play_round(round_number, score)\n",
        "\n",
        "    print_ending_message(score)\n",
        "\n",
        "if __name__ == '__main__':\n",
        "    main()\n"
      ]
    }
  ]
}