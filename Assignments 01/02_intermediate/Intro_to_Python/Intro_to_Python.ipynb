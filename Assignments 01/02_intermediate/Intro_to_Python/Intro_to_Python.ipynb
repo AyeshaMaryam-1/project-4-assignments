{
  "nbformat": 4,
  "nbformat_minor": 0,
  "metadata": {
    "colab": {
      "provenance": [],
      "authorship_tag": "ABX9TyO3POWfDaWY4eTUtjjKC0sR",
      "include_colab_link": true
    },
    "kernelspec": {
      "name": "python3",
      "display_name": "Python 3"
    },
    "language_info": {
      "name": "python"
    }
  },
  "cells": [
    {
      "cell_type": "markdown",
      "metadata": {
        "id": "view-in-github",
        "colab_type": "text"
      },
      "source": [
        "<a href=\"https://colab.research.google.com/github/AyeshaMaryam-1/project-4-assignments/blob/main/Assignments%2001/02_intermediate/Intro_to_Python/Intro_to_Python.ipynb\" target=\"_parent\"><img src=\"https://colab.research.google.com/assets/colab-badge.svg\" alt=\"Open In Colab\"/></a>"
      ]
    },
    {
      "cell_type": "code",
      "execution_count": 6,
      "metadata": {
        "colab": {
          "base_uri": "https://localhost:8080/"
        },
        "id": "Vpz5ufPn2nNR",
        "outputId": "62b2a543-271c-4058-febb-260a10c033d6"
      },
      "outputs": [
        {
          "output_type": "stream",
          "name": "stdout",
          "text": [
            "Enter a weight on Earth: 50\n",
            "The equivalent weight on Mars: 18.9\n",
            "Enter a planet: Earth\n",
            "The equivalent weight on Earth: 57.0\n"
          ]
        }
      ],
      "source": [
        "MARS_MULTIPLE = 0.378\n",
        "MERCURY_GRAVITY = 0.376\n",
        "VENUS_GRAVITY = 0.889\n",
        "MARS_GRAVITY = 0.378\n",
        "JUPITER_GRAVITY = 2.36\n",
        "SATURN_GRAVITY = 1.081\n",
        "URANUS_GRAVITY = 0.815\n",
        "NEPTUNE_GRAVITY = 1.14\n",
        "\n",
        "def main():\n",
        "    earth_weight_str = input('Enter a weight on Earth: ')\n",
        "    earth_weight = float(earth_weight_str)\n",
        "\n",
        "    mars_weight = earth_weight * MARS_MULTIPLE\n",
        "    rounded_mars_weight = round(mars_weight, 2)\n",
        "\n",
        "    print('The equivalent weight on Mars: ' + str(rounded_mars_weight))\n",
        "\n",
        "    planet = input(\"Enter a planet: \")\n",
        "\n",
        "    if planet == \"Mercury\":\n",
        "        gravity_constant = MERCURY_GRAVITY\n",
        "    elif planet == \"Venus\":\n",
        "        gravity_constant = VENUS_GRAVITY\n",
        "    elif planet == \"Mars\":\n",
        "        gravity_constant = MARS_GRAVITY\n",
        "    elif planet == \"Jupiter\":\n",
        "        gravity_constant = JUPITER_GRAVITY\n",
        "    elif planet == \"Saturn\":\n",
        "        gravity_constant = SATURN_GRAVITY\n",
        "    elif planet == \"Uranus\":\n",
        "        gravity_constant = URANUS_GRAVITY\n",
        "    else:\n",
        "        gravity_constant = NEPTUNE_GRAVITY\n",
        "\n",
        "    planetary_weight = earth_weight * gravity_constant\n",
        "    rounded_planetary_weight = round(planetary_weight, 2)\n",
        "\n",
        "    print(\"The equivalent weight on \" + planet + \": \" + str(rounded_planetary_weight))\n",
        "\n",
        "if __name__ == \"__main__\":\n",
        "    main()\n"
      ]
    }
  ]
}