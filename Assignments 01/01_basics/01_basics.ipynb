{
  "nbformat": 4,
  "nbformat_minor": 0,
  "metadata": {
    "colab": {
      "provenance": [],
      "authorship_tag": "ABX9TyOuKPK2q/cfskbL9R0DdtLW",
      "include_colab_link": true
    },
    "kernelspec": {
      "name": "python3",
      "display_name": "Python 3"
    },
    "language_info": {
      "name": "python"
    }
  },
  "cells": [
    {
      "cell_type": "markdown",
      "metadata": {
        "id": "view-in-github",
        "colab_type": "text"
      },
      "source": [
        "<a href=\"https://colab.research.google.com/github/AyeshaMaryam-1/project-4-assignments/blob/main/Assignments%2001/01_basics/01_basics.ipynb\" target=\"_parent\"><img src=\"https://colab.research.google.com/assets/colab-badge.svg\" alt=\"Open In Colab\"/></a>"
      ]
    },
    {
      "cell_type": "markdown",
      "source": [
        "#00_joke_bot"
      ],
      "metadata": {
        "id": "hEzTivQBu0lp"
      }
    },
    {
      "cell_type": "code",
      "execution_count": 3,
      "metadata": {
        "colab": {
          "base_uri": "https://localhost:8080/"
        },
        "id": "zeGIucrluwgT",
        "outputId": "c9763bb6-2941-4e0d-c2c2-d04cd6a5dc0a"
      },
      "outputs": [
        {
          "output_type": "stream",
          "name": "stdout",
          "text": [
            "What do you want? Joke\n",
            "Here is a joke for you! Panaversity GPT - Sophia is heading out to the grocery store. A programmer tells her: get a liter of milk, and if they have eggs, get 12. Sophia returns with 13 liters of milk. The programmer asks why and Sophia replies: 'because they had eggs'\n"
          ]
        }
      ],
      "source": [
        "PROMPT: str = \"What do you want? \"\n",
        "JOKE: str = \"Here is a joke for you! Panaversity GPT - Sophia is heading out to the grocery store. A programmer tells her: get a liter of milk, and if they have eggs, get 12. Sophia returns with 13 liters of milk. The programmer asks why and Sophia replies: 'because they had eggs'\"\n",
        "SORRY: str = \"Sorry I only tell jokes.\"\n",
        "\n",
        "def main():\n",
        "    user_input = input(PROMPT)\n",
        "    if user_input == \"Joke\":\n",
        "        print(JOKE)\n",
        "    else:\n",
        "        print(SORRY)\n",
        "\n",
        "if __name__ == \"__main__\":\n",
        "    main()\n"
      ]
    },
    {
      "cell_type": "markdown",
      "source": [
        "#01_double_it"
      ],
      "metadata": {
        "id": "28A8JQVcwaO6"
      }
    },
    {
      "cell_type": "code",
      "source": [
        "def main():\n",
        "    curr_value = int(input(\"Enter a number: \"))\n",
        "\n",
        "    while curr_value < 100:\n",
        "        curr_value = curr_value * 2\n",
        "        print(curr_value)\n",
        "\n",
        "if __name__ == \"__main__\":\n",
        "    main()"
      ],
      "metadata": {
        "colab": {
          "base_uri": "https://localhost:8080/"
        },
        "id": "gPofSSVkwg6S",
        "outputId": "7041a11e-9cc9-457b-af5a-760d1b20d35e"
      },
      "execution_count": 4,
      "outputs": [
        {
          "output_type": "stream",
          "name": "stdout",
          "text": [
            "Enter a number: 20\n",
            "40\n",
            "80\n",
            "160\n"
          ]
        }
      ]
    },
    {
      "cell_type": "markdown",
      "source": [
        "#02_liftoff"
      ],
      "metadata": {
        "id": "cfe3Z6aqxHIZ"
      }
    },
    {
      "cell_type": "code",
      "source": [
        "def main():\n",
        "    for i in range(10):\n",
        "        print(10 - i, end=' ')\n",
        "    print(\"Liftoff!\")\n",
        "\n",
        "if __name__ == \"__main__\":\n",
        "    main()"
      ],
      "metadata": {
        "colab": {
          "base_uri": "https://localhost:8080/"
        },
        "id": "h6gZlCHPxcOu",
        "outputId": "363fa40b-b53a-4d4f-c9f3-9adacec391ad"
      },
      "execution_count": 5,
      "outputs": [
        {
          "output_type": "stream",
          "name": "stdout",
          "text": [
            "10 9 8 7 6 5 4 3 2 1 Liftoff!\n"
          ]
        }
      ]
    },
    {
      "cell_type": "markdown",
      "source": [
        "#03_guess_my_number"
      ],
      "metadata": {
        "id": "OeguwiiHxu3c"
      }
    },
    {
      "cell_type": "code",
      "source": [
        "import random\n",
        "\n",
        "def main():\n",
        "    secret_number = random.randint(0, 99)\n",
        "    print(\"I am thinking of a number between 0 and 99...\")\n",
        "\n",
        "    guess = int(input(\"Enter a guess: \"))\n",
        "\n",
        "    while guess != secret_number:\n",
        "        if guess > secret_number:\n",
        "            print(\"Your guess is too high\")\n",
        "        else:\n",
        "            print(\"Your guess is too low\")\n",
        "        guess = int(input(\"Enter a new number: \"))\n",
        "\n",
        "    print(\"Congrats! The number was:\", secret_number)\n",
        "\n",
        "if __name__ == \"__main__\":\n",
        "    main()"
      ],
      "metadata": {
        "colab": {
          "base_uri": "https://localhost:8080/"
        },
        "id": "R1s2KxEtxzIP",
        "outputId": "f49f1024-6cc7-426e-8ed9-645d543ca51c"
      },
      "execution_count": 7,
      "outputs": [
        {
          "output_type": "stream",
          "name": "stdout",
          "text": [
            "I am thinking of a number between 0 and 99...\n",
            "Enter a guess: 50\n",
            "Your guess is too high\n",
            "Enter a new number: 30\n",
            "Your guess is too low\n",
            "Enter a new number: 35\n",
            "Your guess is too low\n",
            "Enter a new number: 38\n",
            "Your guess is too low\n",
            "Enter a new number: 42\n",
            "Congrats! The number was: 42\n"
          ]
        }
      ]
    },
    {
      "cell_type": "markdown",
      "source": [
        "#04_random_numbers"
      ],
      "metadata": {
        "id": "9O9XDrdiyaFV"
      }
    },
    {
      "cell_type": "code",
      "source": [
        "import random\n",
        "\n",
        "def main():\n",
        "    for _ in range(10):\n",
        "        number = random.randint(1, 100)\n",
        "        print(number, end=' ')\n",
        "    print()\n",
        "\n",
        "if __name__ == \"__main__\":\n",
        "    main()"
      ],
      "metadata": {
        "colab": {
          "base_uri": "https://localhost:8080/"
        },
        "id": "9qscgZVxyeSz",
        "outputId": "eb9dee12-2a6f-473f-afc2-4edbe7c52647"
      },
      "execution_count": 8,
      "outputs": [
        {
          "output_type": "stream",
          "name": "stdout",
          "text": [
            "20 51 84 48 64 7 21 73 18 71 \n"
          ]
        }
      ]
    }
  ]
}